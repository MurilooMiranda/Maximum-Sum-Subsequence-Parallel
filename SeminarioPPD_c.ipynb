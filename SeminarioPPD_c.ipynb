{
  "nbformat": 4,
  "nbformat_minor": 0,
  "metadata": {
    "colab": {
      "provenance": [],
      "collapsed_sections": [
        "YD6XkPCVmEnL"
      ],
      "authorship_tag": "ABX9TyPHxAIripbMS5U0gFbVnQX7",
      "include_colab_link": true
    },
    "kernelspec": {
      "name": "python3",
      "display_name": "Python 3"
    },
    "language_info": {
      "name": "python"
    }
  },
  "cells": [
    {
      "cell_type": "markdown",
      "metadata": {
        "id": "view-in-github",
        "colab_type": "text"
      },
      "source": [
        "<a href=\"https://colab.research.google.com/github/MurilooMiranda/Maximum-Sum-Subsequence-Parallel/blob/main/SeminarioPPD_c.ipynb\" target=\"_parent\"><img src=\"https://colab.research.google.com/assets/colab-badge.svg\" alt=\"Open In Colab\"/></a>"
      ]
    },
    {
      "cell_type": "markdown",
      "source": [
        "**Identificação dos autores (Nome e RA):**\n",
        "\n",
        "Giuseppe -\n",
        "\n",
        "Lucas Sciarra Gonçalves - 811948\n",
        "\n",
        "Murilo de Miranda Silva - 812069\n"
      ],
      "metadata": {
        "id": "GmFVMrnWE6ii"
      }
    },
    {
      "cell_type": "markdown",
      "source": [
        "# **Tema do Projeto:** Estudo de aplicação paralela no problema *Maximum Sum Subsequence*"
      ],
      "metadata": {
        "id": "Mi9y4NfDFcy9"
      }
    },
    {
      "cell_type": "markdown",
      "source": [
        "##**Descrição do Problema**\n",
        "\n",
        "Dado um array sequência [A1, A2, An], onde ***n*** é a quantidade total de valores inteiros (também representando o tamanho do array), esta implementação tem como objetivo encontrar a soma máxima possível de uma subsequência crescente ***S*** de comprimento ***k*** , de modo que S1 ≤ S2 ≤ S3 ≤ S4 ≤ .... ≤ Sk.\n",
        "### **Entrada**  \n",
        "O conjunto de entrada contém apenas um caso de teste.  \n",
        "- A primeira linha contém um valor: o tamanho do array (que também corresponde ao número de elementos a serem lidos).  \n",
        "- A segunda linha contém o comprimento da subsequência ***S***, representado por ***k***.  \n",
        "- A última linha contém uma lista de elementos a serem inseridos no array (observe que a quantidade de elementos deve ser igual ao tamanho do array).  \n",
        "\n",
        "*A entrada deve ser lida a partir da entrada padrão.*\n",
        "\n",
        "### **Saída**  \n",
        "A saída consiste em apenas uma linha, imprimindo a soma máxima possível da subsequência crescente ***S***.  \n",
        "\n",
        "*A saída deve ser escrita na saída padrão.*\n",
        "\n",
        "\n",
        "###**Exemplo**"
      ],
      "metadata": {
        "id": "aksQp3PNGgMa"
      }
    },
    {
      "cell_type": "code",
      "source": [
        "import pandas as pd\n",
        "from IPython.core.display import display, HTML\n",
        "\n",
        "# Criando um dicionário com os dados\n",
        "data = {\n",
        "    \"Descrição\": [\n",
        "        \"Número de elementos\",\n",
        "        \"Valor de S\",\n",
        "        \"Elementos\"\n",
        "    ],\n",
        "    \"Entrada\": [\n",
        "        \"8\",\n",
        "        \"3\",\n",
        "        \"8  5  9  10  5  6  21  8\"\n",
        "    ],\n",
        "    \"Maximum Sum Sequence\": [\n",
        "        \"40\",\n",
        "        \"\",\n",
        "        \"\"\n",
        "    ]\n",
        "}\n",
        "\n",
        "# Criando um DataFrame\n",
        "df = pd.DataFrame(data)\n",
        "\n",
        "# Exibir tabela formatada no Google Colab\n",
        "display(HTML(df.to_html(index=False)))"
      ],
      "metadata": {
        "colab": {
          "base_uri": "https://localhost:8080/",
          "height": 143
        },
        "id": "uBJMA3p0JFlM",
        "outputId": "b12dcc6c-dc20-4329-92a6-501b53534ecf"
      },
      "execution_count": null,
      "outputs": [
        {
          "output_type": "display_data",
          "data": {
            "text/plain": [
              "<IPython.core.display.HTML object>"
            ],
            "text/html": [
              "<table border=\"1\" class=\"dataframe\">\n",
              "  <thead>\n",
              "    <tr style=\"text-align: right;\">\n",
              "      <th>Descrição</th>\n",
              "      <th>Entrada</th>\n",
              "      <th>Maximum Sum Sequence</th>\n",
              "    </tr>\n",
              "  </thead>\n",
              "  <tbody>\n",
              "    <tr>\n",
              "      <td>Número de elementos</td>\n",
              "      <td>8</td>\n",
              "      <td>40</td>\n",
              "    </tr>\n",
              "    <tr>\n",
              "      <td>Valor de S</td>\n",
              "      <td>3</td>\n",
              "      <td></td>\n",
              "    </tr>\n",
              "    <tr>\n",
              "      <td>Elementos</td>\n",
              "      <td>8  5  9  10  5  6  21  8</td>\n",
              "      <td></td>\n",
              "    </tr>\n",
              "  </tbody>\n",
              "</table>"
            ]
          },
          "metadata": {}
        }
      ]
    },
    {
      "cell_type": "markdown",
      "source": [
        "##**Solução Sequencial do problema**"
      ],
      "metadata": {
        "id": "F01wfN0MKM19"
      }
    },
    {
      "cell_type": "code",
      "source": [
        "%%writefile MSS.c\n",
        "\n",
        "#include <stdio.h>\n",
        "#include <stdlib.h>\n",
        "\n",
        "int MaxIncreasingSub(int arr[], int n, int k) {\n",
        "    int **dp, ans = -1;\n",
        "    dp = (int **)malloc(n * sizeof(int *));\n",
        "    for (int i = 0; i < n; i++) {\n",
        "        dp[i] = (int *)malloc((k + 1) * sizeof(int));\n",
        "        for (int j = 0; j <= k; j++) {\n",
        "            dp[i][j] = -1;\n",
        "        }\n",
        "    }\n",
        "\n",
        "    for (int i = 0; i < n; i++) {\n",
        "        dp[i][1] = arr[i];\n",
        "    }\n",
        "\n",
        "    for (int i = 1; i < n; i++) {\n",
        "        for (int j = 0; j < i; j++) {\n",
        "            if (arr[j] < arr[i]) {\n",
        "                for (int l = 1; l <= k - 1; l++) {\n",
        "                    if (dp[j][l] != -1) {\n",
        "                        dp[i][l + 1] = (dp[i][l + 1] > dp[j][l] + arr[i]) ? dp[i][l + 1] : (dp[j][l] + arr[i]);\n",
        "                    }\n",
        "                }\n",
        "            }\n",
        "        }\n",
        "    }\n",
        "\n",
        "    for (int i = 0; i < n; i++) {\n",
        "        if (ans < dp[i][k]) {\n",
        "            ans = dp[i][k];\n",
        "        }\n",
        "    }\n",
        "\n",
        "    // Liberação da memória alocada\n",
        "    for (int i = 0; i < n; i++) {\n",
        "        free(dp[i]);\n",
        "    }\n",
        "    free(dp);\n",
        "\n",
        "    return (ans == -1) ? 0 : ans;\n",
        "}\n",
        "\n",
        "int main() {\n",
        "    int arr[] = {8, 5, 9, 10, 5, 6, 21, 8};\n",
        "    int n = 8; // Número de elementos\n",
        "    int k = 3; // Tamanho da subsequência\n",
        "\n",
        "    int result = MaxIncreasingSub(arr, n, k);\n",
        "    printf(\"A soma máxima da subsequência crescente de %d elementos é: %d\\n\", k, result);\n",
        "\n",
        "    return 0;\n",
        "}"
      ],
      "metadata": {
        "colab": {
          "base_uri": "https://localhost:8080/"
        },
        "id": "GQkySsBrKRVJ",
        "outputId": "c9a53f95-cc7c-4041-b3e7-801d6fb3dd44"
      },
      "execution_count": null,
      "outputs": [
        {
          "output_type": "stream",
          "name": "stdout",
          "text": [
            "Overwriting MSS.c\n"
          ]
        }
      ]
    },
    {
      "cell_type": "code",
      "source": [
        "! g++ MSS.c -o sequencial"
      ],
      "metadata": {
        "id": "w76W7Q0JLpap"
      },
      "execution_count": null,
      "outputs": []
    },
    {
      "cell_type": "code",
      "source": [
        "!./sequencial"
      ],
      "metadata": {
        "colab": {
          "base_uri": "https://localhost:8080/"
        },
        "id": "F_sKSI6DL26c",
        "outputId": "14bb388a-2c7b-4a3c-9a5a-ae327613a953"
      },
      "execution_count": null,
      "outputs": [
        {
          "output_type": "stream",
          "name": "stdout",
          "text": [
            "A soma máxima da subsequência crescente de 3 elementos é: 40\n"
          ]
        }
      ]
    },
    {
      "cell_type": "markdown",
      "source": [
        "## **Estratégias de paralelização**"
      ],
      "metadata": {
        "id": "FNq4lotASAb4"
      }
    },
    {
      "cell_type": "markdown",
      "source": [
        "O código acima com a implementação sequencial do problema pode ser dividido em 3 **partes principais**:\n",
        "\n",
        "**1.**   Alocação e inicialização da matriz dp\n",
        "\n",
        "**2.**   Preenchimento da matriz dp (ninho de três laços for)\n",
        "\n",
        "**3.**   Busca do valor máximo na última coluna de dp\n",
        "\n",
        "Entre essas partes, a segunda (preenchimento da matriz dp) e a terceira (busca pelo máximo) **podem ser paralelizadas**.\n",
        "\n",
        "\n",
        "\n",
        "\n"
      ],
      "metadata": {
        "id": "rnu3hQMkSQ6E"
      }
    },
    {
      "cell_type": "markdown",
      "source": [
        "## **Analisando cada parte:**\n",
        "\n",
        "\n"
      ],
      "metadata": {
        "id": "koB9s61ZT_K9"
      }
    },
    {
      "cell_type": "markdown",
      "source": [
        "###**1) Alocação e Inicialização da Matriz dp**\n",
        "\n",
        "a. **Possível paralelização**? Sim, mas o ganho de desempenho seria pequeno.\n",
        "\n",
        "b. **Como**? A alocação e inicialização de dp poderiam ser paralelizadas, dividindo as linhas da matriz entre diferentes threads/processos. No entanto, essa parte do código não é a mais custosa em termos de tempo de execução, tornando inviável a paralelização."
      ],
      "metadata": {
        "id": "vDIdppmaVNKl"
      }
    },
    {
      "cell_type": "markdown",
      "source": [
        "###**2) Preenchimento da Matriz dp (Parte mais custosa)**\n",
        "\n"
      ],
      "metadata": {
        "id": "LCPwWVTlULzF"
      }
    },
    {
      "cell_type": "code",
      "source": [
        "for (int i = 1; i < n; i++) {\n",
        "    for (int j = 0; j < i; j++) {\n",
        "        if (arr[j] < arr[i]) {\n",
        "            for (int l = 1; l <= k - 1; l++) {\n",
        "                if (dp[j][l] != -1) {\n",
        "                    dp[i][l + 1] = (dp[i][l + 1] > dp[j][l] + arr[i]) ? dp[i][l + 1] : (dp[j][l] + arr[i]);\n",
        "                }\n",
        "            }\n",
        "        }\n",
        "    }\n",
        "}"
      ],
      "metadata": {
        "id": "4jsx0BZ3UfPW"
      },
      "execution_count": null,
      "outputs": []
    },
    {
      "cell_type": "markdown",
      "source": [
        "a. **Possível paralelização**? Sim, essa é a região mais crítica!\n",
        "\n",
        "b. **Como**? O laço externo *i* não pode ser paralelizado diretamente, pois depende de valores anteriores, mas o laço intermediário *j* pode ser executado em paralelo, já que a atualização do *dp[i][l+1]* depende de valores diferentes para cada *j*.\n"
      ],
      "metadata": {
        "id": "JvVhguRTUdn0"
      }
    },
    {
      "cell_type": "markdown",
      "source": [
        "###**3)  Busca pelo Maior Valor**\n",
        "\n"
      ],
      "metadata": {
        "id": "x09jtEvOU64m"
      }
    },
    {
      "cell_type": "code",
      "source": [
        "for (int i = 0; i < n; i++) {\n",
        "    if (ans < dp[i][k]) {\n",
        "        ans = dp[i][k];\n",
        "    }\n",
        "}"
      ],
      "metadata": {
        "id": "inSkZTzkVQ19"
      },
      "execution_count": null,
      "outputs": []
    },
    {
      "cell_type": "markdown",
      "source": [
        "a. **Possível paralelização**? Sim, essa região também é paralelizável\n",
        "\n",
        "b. **Como**? a variável *dp[i][k]* vai ter um valor diferente em cada iteração, então não há dependência entre elas, então é possível executar essa região em paralelo"
      ],
      "metadata": {
        "id": "Eu4cTcWRVQSO"
      }
    },
    {
      "cell_type": "markdown",
      "source": [
        "###**Resumindo, temos como estratégia:**\n",
        "\n",
        "\n",
        "*   Criar threads para a inicialização de dp[i][1].\n",
        "*   Criar threads para o preenchimento da matriz dp, onde cada thread será responsável por um subconjunto de elementos de i e j.\n",
        "*   Criar threads para a busca do maior valor na matriz dp.\n",
        "\n",
        "\n",
        "\n",
        "\n",
        "\n",
        "\n",
        "\n"
      ],
      "metadata": {
        "id": "JU6Wh0hMYGPP"
      }
    },
    {
      "cell_type": "markdown",
      "source": [
        "## **Definidas as estratégias, vamos para a parte prática!**"
      ],
      "metadata": {
        "id": "LwtbIvoxWaLu"
      }
    },
    {
      "cell_type": "markdown",
      "source": [
        "###**Implementação paralela para memória compartilhada**\n"
      ],
      "metadata": {
        "id": "d6MaSUAhWq1W"
      }
    },
    {
      "cell_type": "markdown",
      "source": [
        "###**a) Código paralelizado usando Pthreads**"
      ],
      "metadata": {
        "id": "is_XoOXEZw74"
      }
    },
    {
      "cell_type": "code",
      "source": [
        "%%writefile mss_parallel_pthread.c\n",
        "\n",
        "#include <stdio.h>\n",
        "#include <stdlib.h>\n",
        "#include <pthread.h>\n",
        "\n",
        "#define NUM_THREADS 4 // Número de threads\n",
        "\n",
        "// Estrutura para passar parâmetros para as threads\n",
        "typedef struct {\n",
        "    int i, j, k, *arr, **dp;\n",
        "} thread_data;\n",
        "\n",
        "// Função para inicializar dp[i][1] (cada thread cuida de uma parte de i)\n",
        "void* initialize_dp(void *arg) {\n",
        "    thread_data *data = (thread_data*)arg;\n",
        "    int i = data->i;\n",
        "    int *arr = data->arr;\n",
        "    int **dp = data->dp;\n",
        "\n",
        "    dp[i][1] = arr[i];\n",
        "\n",
        "    pthread_exit(NULL);\n",
        "}\n",
        "\n",
        "// Função para preencher dp[i][l+1] (trabalho paralelo no preenchimento da matriz)\n",
        "void* fill_dp(void *arg) {\n",
        "    thread_data *data = (thread_data*)arg;\n",
        "    int i = data->i;\n",
        "    int j = data->j;\n",
        "    int k = data->k;\n",
        "    int *arr = data->arr;\n",
        "    int **dp = data->dp;\n",
        "\n",
        "    if (arr[j] < arr[i]) {\n",
        "        for (int l = 1; l <= k - 1; l++) {\n",
        "            if (dp[j][l] != -1) {\n",
        "                // A atualização de dp[i][l+1] deve ser feita com um bloqueio para evitar concorrência\n",
        "                pthread_mutex_lock(&mutex);\n",
        "                dp[i][l + 1] = (dp[i][l + 1] > dp[j][l] + arr[i]) ? dp[i][l + 1] : (dp[j][l] + arr[i]);\n",
        "                pthread_mutex_unlock(&mutex);\n",
        "            }\n",
        "        }\n",
        "    }\n",
        "\n",
        "    pthread_exit(NULL);\n",
        "}\n",
        "\n",
        "// Função para buscar o maior valor de dp[i][k]\n",
        "void* find_max(void *arg) {\n",
        "    thread_data *data = (thread_data*)arg;\n",
        "    int *ans = data->arr;\n",
        "    int n = data->i;\n",
        "    int **dp = data->dp;\n",
        "    int local_max = -1;\n",
        "\n",
        "    for (int i = 0; i < n; i++) {\n",
        "        if (local_max < dp[i][k]) {\n",
        "            local_max = dp[i][k];\n",
        "        }\n",
        "    }\n",
        "\n",
        "    pthread_mutex_lock(&mutex);\n",
        "    *ans = (*ans > local_max) ? *ans : local_max;\n",
        "    pthread_mutex_unlock(&mutex);\n",
        "\n",
        "    pthread_exit(NULL);\n",
        "}\n",
        "\n",
        "// Função principal\n",
        "int MaxIncreasingSub(int arr[], int n, int k) {\n",
        "    int **dp, ans = -1;\n",
        "    dp = (int **)malloc(n * sizeof(int *));\n",
        "    for (int i = 0; i < n; i++) {\n",
        "        dp[i] = (int *)malloc((k + 1) * sizeof(int));\n",
        "        for (int j = 0; j <= k; j++) {\n",
        "            dp[i][j] = -1;\n",
        "        }\n",
        "    }\n",
        "\n",
        "    pthread_t threads[NUM_THREADS];\n",
        "    pthread_mutex_t mutex = PTHREAD_MUTEX_INITIALIZER;\n",
        "\n",
        "    // Inicializando dp[i][1]\n",
        "    for (int i = 0; i < n; i++) {\n",
        "        thread_data *data = malloc(sizeof(thread_data));\n",
        "        data->i = i;\n",
        "        data->arr = arr;\n",
        "        data->dp = dp;\n",
        "\n",
        "        pthread_create(&threads[i], NULL, initialize_dp, (void*)data);\n",
        "    }\n",
        "\n",
        "    for (int i = 0; i < n; i++) {\n",
        "        pthread_join(threads[i], NULL);\n",
        "    }\n",
        "\n",
        "    // Preenchendo dp[i][l+1]\n",
        "    for (int i = 1; i < n; i++) {\n",
        "        for (int j = 0; j < i; j++) {\n",
        "            thread_data *data = malloc(sizeof(thread_data));\n",
        "            data->i = i;\n",
        "            data->j = j;\n",
        "            data->k = k;\n",
        "            data->arr = arr;\n",
        "            data->dp = dp;\n",
        "\n",
        "            pthread_create(&threads[j], NULL, fill_dp, (void*)data);\n",
        "        }\n",
        "\n",
        "        for (int j = 0; j < i; j++) {\n",
        "            pthread_join(threads[j], NULL);\n",
        "        }\n",
        "    }\n",
        "\n",
        "    // Encontrando o valor máximo de dp[i][k]\n",
        "    thread_data *data = malloc(sizeof(thread_data));\n",
        "    data->arr = &ans;\n",
        "    data->i = n;\n",
        "    data->dp = dp;\n",
        "    pthread_create(&threads[0], NULL, find_max, (void*)data);\n",
        "\n",
        "    pthread_join(threads[0], NULL);\n",
        "\n",
        "    // Liberação da memória\n",
        "    for (int i = 0; i < n; i++) {\n",
        "        free(dp[i]);\n",
        "    }\n",
        "    free(dp);\n",
        "\n",
        "    return (ans == -1) ? 0 : ans;\n",
        "}\n",
        "\n",
        "int main() {\n",
        "    int arr[] = {8, 5, 9, 10, 5, 6, 21, 8};\n",
        "    int n = 8; // Número de elementos\n",
        "    int k = 3; // Tamanho da subsequência\n",
        "\n",
        "    int result = MaxIncreasingSub(arr, n, k);\n",
        "    printf(\"A soma máxima da subsequência crescente de %d elementos é: %d\\n\", k, result);\n",
        "\n",
        "    return 0;\n",
        "}"
      ],
      "metadata": {
        "id": "r8FZEca0YXw1"
      },
      "execution_count": null,
      "outputs": []
    },
    {
      "cell_type": "markdown",
      "source": [
        "####**Explicação:**\n",
        "\n",
        "**1. Estrutura thread_data:**\n",
        "Criamos uma estrutura thread_data para passar os parâmetros necessários para cada thread. Ela contém os índices *i*, *j*, e *k*, além do vetor *arr* e a matriz *dp*.\n",
        "\n",
        "**2. Função initialize_dp:**\n",
        "Cada thread inicializa um valor específico de *dp[i][1]* com o valor correspondente em *arr[i]*. O número de threads é igual ao número de elementos n.\n",
        "\n",
        "**3. Função fill_dp:**\n",
        "Cada thread preenche uma parte da matriz *dp[i][l+1]*, de acordo com os valores de *i* e *j*. A atualização de *dp[i][l+1]* é protegida por um mutex (pthread_mutex_lock e pthread_mutex_unlock), evitando condições de corrida.\n",
        "\n",
        "**4. Função find_max:**\n",
        "Uma thread é responsável por encontrar o maior valor de *dp[i][k]*. Utiliza o mutex para garantir que o valor de ans seja atualizado corretamente, sem conflito entre threads.\n",
        "\n",
        "**5. Criação e sincronização de threads:**\n",
        "Criamos as threads com pthread_create.\n",
        "Cada thread é responsável por uma parte específica do trabalho.\n",
        "Utilizamos pthread_join para garantir que todas as threads terminem antes de seguir para a próxima etapa."
      ],
      "metadata": {
        "id": "X8fS8-6_YhhW"
      }
    },
    {
      "cell_type": "markdown",
      "source": [
        "####**Considerações:**\n",
        "\n",
        "*   O uso de mutexes (pthread_mutex_lock e pthread_mutex_unlock) é necessário para evitar condições de corrida durante a atualização da matriz dp e da variável global ans.\n",
        "*   O número de threads (NUM_THREADS) foi fixado como 4, mas pode ser ajustado de acordo com a quantidade de núcleos do seu processador."
      ],
      "metadata": {
        "id": "6BD-HuQwaCyW"
      }
    },
    {
      "cell_type": "markdown",
      "source": [
        "### **Para compilar:**"
      ],
      "metadata": {
        "id": "msiVLxDscOjn"
      }
    },
    {
      "cell_type": "code",
      "source": [
        "!gcc -pthread -o mss_parallel_pthread mss_parallel_pthread.c"
      ],
      "metadata": {
        "id": "OFOk5LieZim3"
      },
      "execution_count": null,
      "outputs": []
    },
    {
      "cell_type": "code",
      "source": [
        "!./mss_parallel_pthread"
      ],
      "metadata": {
        "id": "a9AbjKDTZk3Q"
      },
      "execution_count": null,
      "outputs": []
    },
    {
      "cell_type": "markdown",
      "source": [
        "###**b) Código paralelizado usando OpenMP**"
      ],
      "metadata": {
        "id": "3GRVxM1iaWm-"
      }
    },
    {
      "cell_type": "code",
      "source": [
        "%%writefile mss_parallel_openmp.c\n",
        "\n",
        "#include <stdio.h>\n",
        "#include <stdlib.h>\n",
        "#include <omp.h>\n",
        "\n",
        "int MaxIncreasingSub(int arr[], int n, int k) {\n",
        "    int **dp, ans = -1;\n",
        "    dp = (int **)malloc(n * sizeof(int *));\n",
        "    for (int i = 0; i < n; i++) {\n",
        "        dp[i] = (int *)malloc((k + 1) * sizeof(int));\n",
        "        for (int j = 0; j <= k; j++) {\n",
        "            dp[i][j] = -1;\n",
        "        }\n",
        "    }\n",
        "\n",
        "    // Inicialização de dp[i][1] - Paralelizado\n",
        "    #pragma omp parallel for\n",
        "    for (int i = 0; i < n; i++) {\n",
        "        dp[i][1] = arr[i];\n",
        "    }\n",
        "\n",
        "    // Preenchimento da matriz dp[i][l+1] - Paralelizado\n",
        "    #pragma omp parallel for collapse(2) // Paraleliza os loops i e j\n",
        "    for (int i = 1; i < n; i++) {\n",
        "        for (int j = 0; j < i; j++) {\n",
        "            if (arr[j] < arr[i]) {\n",
        "                for (int l = 1; l <= k - 1; l++) {\n",
        "                    if (dp[j][l] != -1) {\n",
        "                        #pragma omp critical // Evita condição de corrida ao atualizar dp[i][l+1]\n",
        "                        {\n",
        "                            dp[i][l + 1] = (dp[i][l + 1] > dp[j][l] + arr[i]) ? dp[i][l + 1] : (dp[j][l] + arr[i]);\n",
        "                        }\n",
        "                    }\n",
        "                }\n",
        "            }\n",
        "        }\n",
        "    }\n",
        "\n",
        "    // Busca pelo maior valor de dp[i][k] - Paralelizado com redução\n",
        "    #pragma omp parallel for reduction(max:ans)\n",
        "    for (int i = 0; i < n; i++) {\n",
        "        if (ans < dp[i][k]) {\n",
        "            ans = dp[i][k];\n",
        "        }\n",
        "    }\n",
        "\n",
        "    // Liberação da memória\n",
        "    for (int i = 0; i < n; i++) {\n",
        "        free(dp[i]);\n",
        "    }\n",
        "    free(dp);\n",
        "\n",
        "    return (ans == -1) ? 0 : ans;\n",
        "}\n",
        "\n",
        "int main() {\n",
        "    int arr[] = {8, 5, 9, 10, 5, 6, 21, 8};\n",
        "    int n = 8; // Número de elementos\n",
        "    int k = 3; // Tamanho da subsequência\n",
        "\n",
        "    int result = MaxIncreasingSub(arr, n, k);\n",
        "    printf(\"A soma máxima da subsequência crescente de %d elementos é: %d\\n\", k, result);\n",
        "\n",
        "    return 0;\n",
        "}"
      ],
      "metadata": {
        "id": "1YLQCjt6ag23"
      },
      "execution_count": null,
      "outputs": []
    },
    {
      "cell_type": "markdown",
      "source": [
        "####**Explicação:**\n",
        "\n",
        "\n",
        "1. **Inicialização de *dp[i][1]*:**  Utilizamos a diretiva #pragma omp parallel for para paralelizar o preenchimento de *dp[i][1]* em várias threads. Cada thread é responsável por um valor específico de *i*.\n",
        "\n",
        "2.   **Preenchimento de *dp[i][l+1]*:** A diretiva #pragma omp parallel for collapse(2) paraleliza as duas camadas de loops *i* e *j*. Isso significa que as iterações desses dois loops podem ser executadas simultaneamente por diferentes threads.\n",
        "Para garantir que não haja concorrência na atualização de *dp[i][l+1]*, usamos a diretiva #pragma omp critical, que assegura que apenas uma thread de cada vez execute a atualização de *dp[i][l+1]*.\n",
        "3.  **Busca pelo maior valor de *dp[i][k]*:** A diretiva #pragma omp parallel for reduction(max:ans) paraleliza a busca do maior valor em *dp[i][k]*. A cláusula reduction(max:ans) faz com que cada thread mantenha uma cópia local de ans e, ao final, combine os resultados para determinar o valor máximo global.\n",
        "\n",
        "\n",
        "4. **Uso de OpenMP:**\n",
        "\n",
        "* #pragma omp parallel for: Paraleliza o loop, dividindo o trabalho entre várias threads.\n",
        "\n",
        "* #pragma omp critical: Garante que uma seção crítica do código seja executada por uma única thread por vez, evitando condições de corrida.\n",
        "\n",
        "* #pragma omp parallel for reduction(max:ans): Paraleliza a busca pelo máximo, utilizando a redução para combinar os resultados parciais."
      ],
      "metadata": {
        "id": "mHsyOKl7apkH"
      }
    },
    {
      "cell_type": "markdown",
      "source": [
        "####**Considerações:**\n",
        "\n",
        "\n",
        "*   Paralelização: As principais regiões paralelizadas são a inicialização de *dp[i][1]*, o preenchimento de *dp[i][l+1]* e a busca pelo valor máximo em *dp[i][k]*.\n",
        "\n",
        "*   Desempenho: A paralelização do preenchimento de dp com collapse(2) e a busca pelo máximo usando reduction(max:ans) oferecem bons ganhos de desempenho, especialmente em sistemas com múltiplos núcleos.\n",
        "\n",
        "*   Concorrência: O uso da diretiva #pragma omp critical é necessário para evitar condições de corrida durante a atualização de *dp[i][l+1]*.\n",
        "\n",
        "\n",
        "\n",
        "\n",
        "\n",
        "\n",
        "\n",
        "\n"
      ],
      "metadata": {
        "id": "FNd_ggA3cx1n"
      }
    },
    {
      "cell_type": "markdown",
      "source": [
        "### **Para compilar:**"
      ],
      "metadata": {
        "id": "QXV6klRZcYsO"
      }
    },
    {
      "cell_type": "code",
      "source": [
        "!gcc -fopenmp -o mss_parallel_openmp mss_parallel_openmp.c"
      ],
      "metadata": {
        "id": "KMI91lIFcaMH"
      },
      "execution_count": null,
      "outputs": []
    },
    {
      "cell_type": "code",
      "source": [
        "!./mss_parallel_openmp"
      ],
      "metadata": {
        "id": "14EhRPKccgkn"
      },
      "execution_count": null,
      "outputs": []
    },
    {
      "cell_type": "markdown",
      "source": [
        "###**Implementação paralela para memória distribuída**"
      ],
      "metadata": {
        "id": "8-jG75xAXhRG"
      }
    },
    {
      "cell_type": "markdown",
      "source": [
        "###**a) Código paralelizado usando MPI**"
      ],
      "metadata": {
        "id": "bUr5xvbXjCMR"
      }
    },
    {
      "cell_type": "code",
      "source": [
        "%%writefile mss_parallel_mpi.c\n",
        "#include <stdio.h>\n",
        "#include <stdlib.h>\n",
        "#include <mpi.h>\n",
        "\n",
        "int MaxIncreasingSub(int arr[], int n, int k, int rank, int size) {\n",
        "    int **dp, ans = -1;\n",
        "    int local_ans = -1;\n",
        "    int *local_dp;\n",
        "\n",
        "    dp = (int **)malloc(n * sizeof(int *));\n",
        "    for (int i = 0; i < n; i++) {\n",
        "        dp[i] = (int *)malloc((k + 1) * sizeof(int));\n",
        "        for (int j = 0; j <= k; j++) {\n",
        "            dp[i][j] = -1;\n",
        "        }\n",
        "    }\n",
        "\n",
        "    // Inicializando dp[i][1]\n",
        "    for (int i = 0; i < n; i++) {\n",
        "        dp[i][1] = arr[i];\n",
        "    }\n",
        "\n",
        "    // Divisão do trabalho entre processos\n",
        "    int chunk_size = n / size;\n",
        "    int start = rank * chunk_size;\n",
        "    int end = (rank == size - 1) ? n : (rank + 1) * chunk_size;\n",
        "\n",
        "    // Preenchendo dp[i][l+1] de acordo com o rank\n",
        "    for (int i = start; i < end; i++) {\n",
        "        for (int j = 0; j < i; j++) {\n",
        "            if (arr[j] < arr[i]) {\n",
        "                for (int l = 1; l <= k - 1; l++) {\n",
        "                    if (dp[j][l] != -1) {\n",
        "                        dp[i][l + 1] = (dp[i][l + 1] > dp[j][l] + arr[i]) ? dp[i][l + 1] : (dp[j][l] + arr[i]);\n",
        "                    }\n",
        "                }\n",
        "            }\n",
        "        }\n",
        "    }\n",
        "\n",
        "    // Encontrando o valor máximo localmente\n",
        "    for (int i = start; i < end; i++) {\n",
        "        if (dp[i][k] > local_ans) {\n",
        "            local_ans = dp[i][k];\n",
        "        }\n",
        "    }\n",
        "\n",
        "    // Redução para encontrar o valor máximo global\n",
        "    MPI_Reduce(&local_ans, &ans, 1, MPI_INT, MPI_MAX, 0, MPI_COMM_WORLD);\n",
        "\n",
        "    // Liberação de memória\n",
        "    for (int i = 0; i < n; i++) {\n",
        "        free(dp[i]);\n",
        "    }\n",
        "    free(dp);\n",
        "\n",
        "    return ans;\n",
        "}\n",
        "\n",
        "int main(int argc, char **argv) {\n",
        "    int rank, size;\n",
        "    MPI_Init(&argc, &argv);\n",
        "    MPI_Comm_rank(MPI_COMM_WORLD, &rank);\n",
        "    MPI_Comm_size(MPI_COMM_WORLD, &size);\n",
        "\n",
        "    int arr[] = {8, 5, 9, 10, 5, 6, 21, 8};\n",
        "    int n = 8; // Número de elementos\n",
        "    int k = 3; // Tamanho da subsequência\n",
        "\n",
        "    int result = MaxIncreasingSub(arr, n, k, rank, size);\n",
        "\n",
        "    if (rank == 0) {\n",
        "        printf(\"A soma máxima da subsequência crescente de %d elementos é: %d\\n\", k, result);\n",
        "    }\n",
        "\n",
        "    MPI_Finalize();\n",
        "    return 0;\n",
        "}\n"
      ],
      "metadata": {
        "id": "RU4ZRV1Tkbrw"
      },
      "execution_count": null,
      "outputs": []
    },
    {
      "cell_type": "markdown",
      "source": [
        "###**Explicação:**\n",
        "\n",
        "**1) Inicialização do MPI:**\n",
        "\n",
        "\n",
        "*   MPI_Init inicia o ambiente MPI.\n",
        "\n",
        "*   MPI_Comm_rank obtém o ID do processo atual (rank).\n",
        "\n",
        "*   MPI_Comm_size obtém o número total de processos (tamanho do comunicador).\n",
        "\n",
        "\n",
        "**2) Divisão do trabalho entre os processos:**\n",
        "\n",
        "\n",
        "\n",
        "*   O vetor de entrada arr é dividido entre os processos. Cada processo calcula uma parte da matriz dp. A variável chunk_size determina quantos elementos cada processo irá calcular.\n",
        "\n",
        "*   O processo rank calcula a parte da matriz dp que corresponde à sua faixa de índices start a end.\n",
        "\n",
        "\n",
        "**3) Busca do valor máximo:**\n",
        "\n",
        "* Cada processo calcula o valor máximo localmente. No final, a função MPI_Reduce é usada para combinar os resultados locais em um valor global. O processo de rank 0 recebe o valor máximo global.\n",
        "\n",
        "**4) Liberação de memória e finalização:**\n",
        "*   O código libera a memória alocada para a matriz dp e finaliza o ambiente MPI com MPI_Finalize.\n"
      ],
      "metadata": {
        "id": "YNpfrxounHqs"
      }
    },
    {
      "cell_type": "markdown",
      "source": [
        "####**Considerações:**\n",
        "\n",
        "*   Paralelização: O código é otimizado para executar em milhares de threads na GPU. Cada thread calcula uma parte de dp, e a combinação dos resultados é feita através de operações atômicas no valor máximo.\n",
        "\n",
        "*   Memória: O gerenciamento eficiente da memória é crucial. A memória compartilhada da GPU pode ser usada para otimizar o acesso a dados, mas o código precisa garantir que o acesso seja coordenado para evitar condições de corrida.\n",
        "*  Desempenho: A paralelização massiva com CUDA oferece grandes ganhos de desempenho, especialmente em cálculos de larga escala, aproveitando o poder de processamento das GPUs.\n"
      ],
      "metadata": {
        "id": "MjP83s8ooGvU"
      }
    },
    {
      "cell_type": "markdown",
      "source": [
        "###**Para compilar:**"
      ],
      "metadata": {
        "id": "m60__YSKogVV"
      }
    },
    {
      "cell_type": "code",
      "source": [
        "!mpicc -o mss_parallel_mpi mss_parallel_mpi.c"
      ],
      "metadata": {
        "id": "mVizZBOVojVs"
      },
      "execution_count": null,
      "outputs": []
    },
    {
      "cell_type": "code",
      "source": [
        "!mpirun -np 4 ./mss_parallel_mpi"
      ],
      "metadata": {
        "id": "MPLxr_ewojje"
      },
      "execution_count": null,
      "outputs": []
    },
    {
      "cell_type": "markdown",
      "source": [
        "###**b) Código paralelizado usando CUDA**"
      ],
      "metadata": {
        "id": "l4xM_srzjW6S"
      }
    },
    {
      "cell_type": "code",
      "source": [
        "%%writefile mss_parallel_cuda.cu\n",
        "#include <stdio.h>\n",
        "#include <stdlib.h>\n",
        "#include <cuda_runtime.h>\n",
        "\n",
        "__global__ void initialize_dp(int *arr, int **dp, int n) {\n",
        "    int idx = threadIdx.x + blockIdx.x * blockDim.x;\n",
        "    if (idx < n) {\n",
        "        dp[idx][1] = arr[idx];\n",
        "    }\n",
        "}\n",
        "\n",
        "__global__ void fill_dp(int *arr, int **dp, int n, int k) {\n",
        "    int idx = threadIdx.x + blockIdx.x * blockDim.x;\n",
        "    int i = idx / n;  // Divisão entre as threads\n",
        "    int j = idx % n;\n",
        "\n",
        "    if (i < n && j < i && arr[j] < arr[i]) {\n",
        "        for (int l = 1; l <= k - 1; l++) {\n",
        "            if (dp[j][l] != -1) {\n",
        "                dp[i][l + 1] = (dp[i][l + 1] > dp[j][l] + arr[i]) ? dp[i][l + 1] : (dp[j][l] + arr[i]);\n",
        "            }\n",
        "        }\n",
        "    }\n",
        "}\n",
        "\n",
        "__global__ void find_max(int *dp, int n, int k, int *ans) {\n",
        "    int idx = threadIdx.x + blockIdx.x * blockDim.x;\n",
        "    int local_max = -1;\n",
        "\n",
        "    if (idx < n) {\n",
        "        if (dp[idx * (k + 1) + k] > local_max) {\n",
        "            local_max = dp[idx * (k + 1) + k];\n",
        "        }\n",
        "    }\n",
        "\n",
        "    atomicMax(ans, local_max);  // Atualiza o valor máximo\n",
        "}\n",
        "\n",
        "int MaxIncreasingSub(int arr[], int n, int k) {\n",
        "    int **dp, ans = -1;\n",
        "    int *d_arr, *d_dp, *d_ans;\n",
        "\n",
        "    // Alocação de memória\n",
        "    cudaMalloc((void**)&d_arr, n * sizeof(int));\n",
        "    cudaMalloc((void**)&d_dp, n * (k + 1) * sizeof(int));\n",
        "    cudaMalloc((void**)&d_ans, sizeof(int));\n",
        "\n",
        "    cudaMemcpy(d_arr, arr, n * sizeof(int), cudaMemcpyHostToDevice);\n",
        "    cudaMemset(d_ans, -1, sizeof(int));\n",
        "\n",
        "    // Inicialização de dp[i][1]\n",
        "    initialize_dp<<<(n + 255) / 256, 256>>>(d_arr, d_dp, n);\n",
        "\n",
        "    // Preenchimento de dp[i][l+1]\n",
        "    fill_dp<<<(n * n + 255) / 256, 256>>>(d_arr, d_dp, n, k);\n",
        "\n",
        "    // Busca pelo maior valor de dp[i][k]\n",
        "    find_max<<<(n + 255) / 256, 256>>>(d_dp, n, k, d_ans);\n",
        "\n",
        "    cudaMemcpy(&ans, d_ans, sizeof(int), cudaMemcpyDeviceToHost);\n",
        "\n",
        "    // Liberação de memória\n",
        "    cudaFree(d_arr);\n",
        "    cudaFree(d_dp);\n",
        "    cudaFree(d_ans);\n",
        "\n",
        "    return (ans == -1) ? 0 : ans;\n",
        "}\n",
        "\n",
        "int main() {\n",
        "    int arr[] = {8, 5, 9, 10, 5, 6, 21, 8};\n",
        "    int n = 8; // Número de elementos\n",
        "    int k = 3; // Tamanho da subsequência\n",
        "\n",
        "    int result = MaxIncreasingSub(arr, n, k);\n",
        "    printf(\"A soma máxima da subsequência crescente de %d elementos é: %d\\n\", k, result);\n",
        "\n",
        "    return 0;\n",
        "}"
      ],
      "metadata": {
        "id": "Z_P6gXI6kaMs"
      },
      "execution_count": null,
      "outputs": []
    },
    {
      "cell_type": "markdown",
      "source": [
        "####**Explicação:**\n",
        "\n",
        "**a) Funções CUDA (__global__):**\n",
        "\n",
        "**1. initialize_dp:** Esta função inicializa dp[i][1] em paralelo. Cada thread da GPU será responsável por um índice i.\n",
        "\n",
        "**2. fill_dp:** Preenche os valores de dp[i][l+1] em paralelo, verificando as condições de subsequência crescente e calculando a soma máxima.\n",
        "\n",
        "**3. find_max:** Esta função procura o maior valor de dp[i][k] usando uma operação atômica para garantir a atualização segura do valor máximo entre as threads.\n",
        "\n",
        "**b) CUDA Memory Management:**\n",
        "\n",
        "*   cudaMalloc e cudaMemcpy são usados para alocar memória na GPU e transferir dados entre a CPU e a GPU.\n",
        "\n",
        "\n",
        "**c) Paralelização:**\n",
        "\n",
        "\n",
        "*  A função initialize_dp é executada em paralelo com um número de threads baseado no número de elementos (n).\n",
        "\n",
        "*   A função fill_dp é paralelizada ao dividir o trabalho entre as threads, com cada thread cuidando de uma combinação i e j.\n",
        "\n",
        "* find_max usa a operação atômica atomicMax para garantir que a atualização do valor máximo seja feita de forma segura por múltiplas threads."
      ],
      "metadata": {
        "id": "NPMyiYlukoat"
      }
    },
    {
      "cell_type": "markdown",
      "source": [
        "####**Considerações:**\n",
        "\n",
        "\n",
        "* Paralelização: O código é paralelizado pela divisão do trabalho entre diferentes processos. Cada processo calcula uma parte da matriz dp e realiza a busca do máximo dentro do seu conjunto de dados.\n",
        "\n",
        "* Comunicação: A comunicação entre os processos é essencial para sincronizar os dados e combinar os resultados. A função MPI_Reduce é utilizada para coletar os valores máximos de cada processo e computar o valor global.\n",
        "\n",
        "*  Escalabilidade: A implementação pode ser escalada para múltiplas máquinas ou núcleos, mas o desempenho depende da eficiência da comunicação entre os processos, especialmente para problemas grandes."
      ],
      "metadata": {
        "id": "YD6XkPCVmEnL"
      }
    },
    {
      "cell_type": "markdown",
      "source": [
        "###**Para compilar:**"
      ],
      "metadata": {
        "id": "NhjamnH-m6pu"
      }
    },
    {
      "cell_type": "code",
      "source": [
        "!nvcc -o mss_parallel_cuda mss_parallel_cuda.cu"
      ],
      "metadata": {
        "id": "kgZl9mb1l-ll"
      },
      "execution_count": null,
      "outputs": []
    },
    {
      "cell_type": "code",
      "source": [
        "!./mss_parallel_cuda"
      ],
      "metadata": {
        "id": "0EnQt1dqmBKL"
      },
      "execution_count": null,
      "outputs": []
    },
    {
      "cell_type": "markdown",
      "source": [
        "##**Conclusão**\n",
        "\n",
        "Após todos esses estudos, vimos a importância da programação paralela e distribuída na otimização e melhoria no desempenho de sistemas, mostrando que mesmo que algo funcione, pode funcionar melhor e de forma mais eficiente. Tanto na aplicação com memória compartilhada quanto na memória distribuída, constatamos que a divisão do problema em subproblemas menores e a execução simultânea de múltiplas tarefas resultam em uma redução significativa no tempo de processamento. A utilização de threads, MPI e GPUs proporciona vantagens distintas, dependendo da arquitetura e dos recursos disponíveis. A escolha da abordagem correta, seja em ambientes com memória compartilhada, sistemas distribuídos ou GPUs, pode fazer toda a diferença na escalabilidade e no desempenho geral da solução, tornando a paralelização uma ferramenta essencial para problemas de grande escala e complexidade."
      ],
      "metadata": {
        "id": "c6PmSuRPpl-t"
      }
    },
    {
      "cell_type": "markdown",
      "source": [
        "##**Referências Bibliográficas**\n",
        "\n",
        "*   14th Marathon of Parallel Programming SBAC-PAD & WSCAD – 2019\n"
      ],
      "metadata": {
        "id": "p_G6PHektApj"
      }
    }
  ]
}